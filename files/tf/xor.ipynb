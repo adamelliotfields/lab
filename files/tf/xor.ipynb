{
 "cells": [
  {
   "cell_type": "markdown",
   "metadata": {},
   "source": [
    "# XOR (TensorFlow)\n",
    "\n",
    "[![Open in Colab](https://lab.aef.me/files/assets/colab-badge.svg)](https://colab.research.google.com/github/adamelliotfields/lab/blob/main/files/tf/xor.ipynb)\n",
    "[![Open in Kaggle](https://lab.aef.me/files/assets/open-in-kaggle.svg)](https://kaggle.com/kernels/welcome?src=https://github.com/adamelliotfields/lab/blob/main/files/tf/xor.ipynb)\n",
    "[![Render nbviewer](https://lab.aef.me/files/assets/nbviewer_badge.svg)](https://nbviewer.org/github/adamelliotfields/lab/blob/main/files/tf/xor.ipynb)\n",
    "\n",
    "Given the following table:\n",
    "\n",
    "```markdown\n",
    "| A | B | A ^ B |\n",
    "|---|---|-------|\n",
    "| 0 | 0 | 0     |\n",
    "| 0 | 1 | 1     |\n",
    "| 1 | 0 | 1     |\n",
    "| 1 | 1 | 0     |\n",
    "```\n",
    "\n",
    "We can train a neural network to predict the XOR of two binary inputs.\n",
    "\n",
    "In Python, XOR is represented by the caret `^`. In TensorFlow, XOR is implemented by the `tf.math.logical_xor` function.\n",
    "\n",
    "The traditional `OR` operator is the _inclusive or_. So, `True or True` is `True`. The XOR operation is _exclusive_, so `True ^ True` is `False` (but `True ^ False` is `True`).\n",
    "\n",
    "The significance of this problem is that it is not linearly separable. This means if you were to plot the data on a graph, you would not be able to draw a straight line between the two classes. Since neural networks are composed of linear operations, they require non-linear activation functions to solve problems like this. Early neural networks \n",
    "\n",
    "**Notes**\n",
    "\n",
    "Using `Sequential` here, but most other notebooks use the [functional API](https://keras.io/guides/functional_api/)."
   ]
  },
  {
   "cell_type": "code",
   "execution_count": 1,
   "metadata": {},
   "outputs": [],
   "source": [
    "%matplotlib inline"
   ]
  },
  {
   "cell_type": "code",
   "execution_count": 2,
   "metadata": {},
   "outputs": [],
   "source": [
    "import math\n",
    "\n",
    "import ipywidgets as widgets\n",
    "import matplotlib.pyplot as plt\n",
    "import seaborn as sns\n",
    "import tensorflow as tf\n",
    "\n",
    "from keras import Input, Sequential, callbacks, initializers, layers, optimizers, random"
   ]
  },
  {
   "cell_type": "code",
   "execution_count": 3,
   "metadata": {},
   "outputs": [
    {
     "data": {
      "image/png": "[encoded data removed]",
      "text/plain": [
       "<Figure size 600x600 with 1 Axes>"
      ]
     },
     "metadata": {},
     "output_type": "display_data"
    }
   ],
   "source": [
    "# plot xor\n",
    "inputs = [(0, 0), (0, 1), (1, 0), (1, 1)]\n",
    "outputs = [0, 1, 1, 0]\n",
    "\n",
    "# separate into two lists for plotting\n",
    "x_vals = [x[0] for x in inputs]\n",
    "y_vals = [x[1] for x in inputs]\n",
    "\n",
    "# scatter\n",
    "plt.figure(figsize=(6, 6))\n",
    "for i in range(len(inputs)):\n",
    "    if outputs[i] == 0:\n",
    "        plt.scatter(x_vals[i], y_vals[i], color=\"red\", s=100, label=\"0\" if i == 0 else \"\")\n",
    "    else:\n",
    "        plt.scatter(x_vals[i], y_vals[i], color=\"blue\", s=100, label=\"1\" if i == 1 else \"\")\n",
    "\n",
    "# labels\n",
    "plt.xlabel(\"Input 1\")\n",
    "plt.ylabel(\"Input 2\")\n",
    "plt.title(\"XOR\")\n",
    "plt.xticks([-1, 0, 1, 2])\n",
    "plt.yticks([-1, 0, 1, 2])\n",
    "plt.legend(title=\"Output\")\n",
    "plt.grid(True);"
   ]
  },
  {
   "cell_type": "code",
   "execution_count": 4,
   "metadata": {},
   "outputs": [
    {
     "name": "stdout",
     "output_type": "stream",
     "text": [
      "Epoch 1/100: loss=0.8213, accuracy=0.5000\n",
      "Epoch 10/100: loss=0.1872, accuracy=1.0000\n",
      "Epoch 20/100: loss=0.0492, accuracy=1.0000\n",
      "Epoch 30/100: loss=0.0249, accuracy=1.0000\n",
      "Epoch 40/100: loss=0.0186, accuracy=1.0000\n",
      "Epoch 50/100: loss=0.0165, accuracy=1.0000\n",
      "Epoch 60/100: loss=0.0158, accuracy=1.0000\n",
      "Epoch 70/100: loss=0.0155, accuracy=1.0000\n"
     ]
    }
   ],
   "source": [
    "# parameters\n",
    "EPOCHS = 100\n",
    "BATCH_SIZE = 4\n",
    "LEARNING_RATE = 0.01\n",
    "# WEIGHT_DECAY = 0.01\n",
    "\n",
    "\n",
    "# custom progress bar\n",
    "class ProgressBar(callbacks.Callback):\n",
    "    def on_train_begin(self, logs=None):\n",
    "        self.epochs = self.params[\"epochs\"]\n",
    "\n",
    "    def on_epoch_end(self, epoch, logs=None):\n",
    "        # every 10th\n",
    "        if epoch == 0 or (epoch + 1) % 10 == 0:\n",
    "            print(\n",
    "                f\"Epoch {epoch + 1}/{self.epochs}: loss={logs['loss']:.4f}, accuracy={logs['accuracy']:.4f}\"\n",
    "            )\n",
    "\n",
    "\n",
    "# custom learning rate schedule\n",
    "def lr_schedule(epoch, lr):\n",
    "    if epoch < 10:\n",
    "        return lr\n",
    "    else:\n",
    "        return lr * math.exp(-0.1)\n",
    "\n",
    "\n",
    "# weight initialization\n",
    "seed = random.SeedGenerator(seed=42)\n",
    "initializer = initializers.HeNormal(seed=seed)\n",
    "\n",
    "# optimizer = optimizers.AdamW(learning_rate=LEARNING_RATE, weight_decay=WEIGHT_DECAY)\n",
    "optimizer = optimizers.Lion(learning_rate=LEARNING_RATE)\n",
    "\n",
    "# xor returns 1 if inputs are not equal and 0 otherwise\n",
    "X = tf.constant([[0, 0], [0, 1], [1, 0], [1, 1]], dtype=tf.float32)\n",
    "y = tf.constant([[0], [1], [1], [0]], dtype=tf.float32)\n",
    "\n",
    "# model\n",
    "model = Sequential(\n",
    "    [\n",
    "        Input(shape=(2,)),\n",
    "        layers.Dense(32, activation=\"mish\", kernel_initializer=initializer),\n",
    "        layers.Dense(32, activation=\"mish\", kernel_initializer=initializer),\n",
    "        # linear for regression\n",
    "        # sigmoid for binary classification\n",
    "        # softmax for multi-class classification\n",
    "        layers.Dense(1, activation=\"sigmoid\"),\n",
    "    ]\n",
    ")\n",
    "\n",
    "model.compile(optimizer=optimizer, loss=\"binary_crossentropy\", metrics=[\"accuracy\"])\n",
    "history = model.fit(\n",
    "    X,\n",
    "    y,\n",
    "    epochs=EPOCHS,\n",
    "    batch_size=BATCH_SIZE,\n",
    "    verbose=0,\n",
    "    callbacks=[\n",
    "        callbacks.LearningRateScheduler(lr_schedule),\n",
    "        callbacks.EarlyStopping(monitor=\"loss\", min_delta=0.001, patience=20),\n",
    "        ProgressBar(),\n",
    "    ],\n",
    ")"
   ]
  },
  {
   "cell_type": "code",
   "execution_count": 5,
   "metadata": {},
   "outputs": [
    {
     "data": {
      "image/png": "[encoded data removed]",
      "text/plain": [
       "<Figure size 640x480 with 2 Axes>"
      ]
     },
     "metadata": {},
     "output_type": "display_data"
    }
   ],
   "source": [
    "_, ax1 = plt.subplots()\n",
    "\n",
    "# loss\n",
    "ax1.set_ylabel(\"Loss\")\n",
    "ax1.set_xlabel(\"Epoch\")\n",
    "sns.lineplot(\n",
    "    history.history[\"loss\"],\n",
    "    ax=ax1,\n",
    "    label=\"Train Loss\",\n",
    "    color=\"blue\",\n",
    "    dashes=False,\n",
    "    legend=False,\n",
    ")\n",
    "\n",
    "# accuracy\n",
    "ax2 = ax1.twinx()\n",
    "ax2.set_ylabel(\"Accuracy\")\n",
    "sns.lineplot(\n",
    "    history.history[\"accuracy\"],\n",
    "    ax=ax2,\n",
    "    label=\"Train Accuracy\",\n",
    "    color=\"orange\",\n",
    "    dashes=False,\n",
    "    legend=False,\n",
    ")\n",
    "\n",
    "# combine legends\n",
    "lines1, labels1 = ax1.get_legend_handles_labels()\n",
    "lines2, labels2 = ax2.get_legend_handles_labels()\n",
    "ax2.legend(lines1 + lines2, labels1 + labels2, loc=\"center right\")\n",
    "plt.title(\"XOR Training\");"
   ]
  },
  {
   "cell_type": "markdown",
   "metadata": {},
   "source": [
    "## Demo"
   ]
  },
  {
   "cell_type": "code",
   "execution_count": null,
   "metadata": {},
   "outputs": [],
   "source": [
    "output = widgets.Output()\n",
    "dropdown_a = widgets.Dropdown(options=[0, 1], value=0)\n",
    "dropdown_b = widgets.Dropdown(options=[0, 1], value=0)\n",
    "submit = widgets.Button(description=\"Predict\", button_style=\"success\")\n",
    "\n",
    "dropdown_a.layout.width = \"60px\"\n",
    "dropdown_b.layout.width = \"60px\"\n",
    "submit.layout.width = \"124px\"\n",
    "\n",
    "# placeholder\n",
    "with output:\n",
    "    print(\"Prediction: ?\")\n",
    "\n",
    "\n",
    "def on_submit(_):\n",
    "    with output:\n",
    "        output.clear_output()\n",
    "        print(\"Prediction: ?\")\n",
    "        prediction = model.predict(\n",
    "            tf.constant([[dropdown_a.value, dropdown_b.value]]),\n",
    "            verbose=0,\n",
    "        )\n",
    "        output.clear_output()\n",
    "        # prediction is a 2D array (matrix)\n",
    "        print(f\"Prediction: {int(round(prediction[0][0]))}\")\n",
    "\n",
    "\n",
    "submit.on_click(on_submit)\n",
    "widgets.VBox(\n",
    "    [\n",
    "        output,\n",
    "        widgets.HBox([dropdown_a, dropdown_b]),\n",
    "        submit,\n",
    "    ]\n",
    ")"
   ]
  }
 ],
 "metadata": {
  "kernelspec": {
   "display_name": ".venv",
   "language": "python",
   "name": "python3"
  },
  "language_info": {
   "codemirror_mode": {
    "name": "ipython",
    "version": 3
   },
   "file_extension": ".py",
   "mimetype": "text/x-python",
   "name": "python",
   "nbconvert_exporter": "python",
   "pygments_lexer": "ipython3",
   "version": "3.11.9"
  }
 },
 "nbformat": 4,
 "nbformat_minor": 2
}
