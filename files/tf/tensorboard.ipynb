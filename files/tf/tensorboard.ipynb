{
 "cells": [
  {
   "cell_type": "markdown",
   "metadata": {},
   "source": [
    "# TensorBoard\n",
    "\n",
    "[![Open in Colab](https://lab.aef.me/files/assets/colab-badge.svg)](https://colab.research.google.com/github/adamelliotfields/lab/blob/main/files/tf/tensorboard.ipynb)\n",
    "[![Open in Kaggle](https://lab.aef.me/files/assets/open-in-kaggle.svg)](https://kaggle.com/kernels/welcome?src=https://github.com/adamelliotfields/lab/blob/main/files/tf/tensorboard.ipynb)\n",
    "[![Render nbviewer](https://lab.aef.me/files/assets/nbviewer_badge.svg)](https://nbviewer.org/github/adamelliotfields/lab/blob/main/files/tf/tensorboard.ipynb)\n",
    "\n",
    "Example logging metrics to TensorBoard.\n",
    "\n",
    "**Notes**\n",
    "\n",
    "Using the `LearningRateScheduler` callback logs to TensorBoard automatically; so this is just an example of a custom logger.\n",
    "\n",
    "```python\n",
    "import tensorflow as tf\n",
    "from keras import callbacks, optimizers\n",
    "\n",
    "class LearningRateLogger(callbacks.Callback):\n",
    "    def __init__(self, log_dir):\n",
    "        super().__init__()\n",
    "        self.log_dir = log_dir\n",
    "        self.file_writer = tf.summary.create_file_writer(log_dir)\n",
    "\n",
    "    def on_epoch_end(self, epoch, logs=None):\n",
    "        lr = self.model.optimizer.learning_rate\n",
    "        if isinstance(lr, optimizers.schedules.LearningRateSchedule):\n",
    "            lr = lr(epoch)\n",
    "        else:\n",
    "            lr = lr.numpy()  # tensor to scalar\n",
    "        with self.file_writer.as_default():\n",
    "            tf.summary.scalar(\"learning_rate\", data=lr, step=epoch)\n",
    "```"
   ]
  },
  {
   "cell_type": "code",
   "execution_count": 1,
   "metadata": {},
   "outputs": [],
   "source": [
    "%load_ext tensorboard"
   ]
  },
  {
   "cell_type": "code",
   "execution_count": 2,
   "metadata": {},
   "outputs": [],
   "source": [
    "import math\n",
    "import os\n",
    "import shutil\n",
    "import tensorflow as tf\n",
    "\n",
    "from datetime import datetime\n",
    "from keras import Input, Model, callbacks, initializers, layers, optimizers, random\n",
    "from keras_tuner import RandomSearch"
   ]
  },
  {
   "cell_type": "code",
   "execution_count": 3,
   "metadata": {},
   "outputs": [],
   "source": [
    "# xor returns 1 if inputs are not equal and 0 otherwise\n",
    "X = tf.constant([[0, 0], [0, 1], [1, 0], [1, 1]], dtype=tf.float32)\n",
    "y = tf.constant([[0], [1], [1], [0]], dtype=tf.float32)\n",
    "\n",
    "# rng seed\n",
    "seed = random.SeedGenerator(seed=42)\n",
    "\n",
    "# weight initialization\n",
    "initializer_he = initializers.HeNormal(seed=seed)\n",
    "\n",
    "\n",
    "# custom learning rate schedule\n",
    "def lr_schedule(epoch, lr):\n",
    "    if epoch < 10:\n",
    "        return lr\n",
    "    else:\n",
    "        return lr * math.exp(-0.1)\n",
    "\n",
    "\n",
    "def build_model(hp):\n",
    "    activation = hp.Choice(\"activation\", [\"tanh\", \"gelu\", \"mish\"])\n",
    "\n",
    "    optimizer = optimizers.Lion(learning_rate=0.01)\n",
    "    inputs = Input(shape=(2,))\n",
    "    x = inputs\n",
    "\n",
    "    for _ in range(hp.Int(\"layers\", 2, 3)):\n",
    "        x = layers.Dense(\n",
    "            32,\n",
    "            activation=activation,\n",
    "            kernel_initializer=initializer_he,\n",
    "        )(x)\n",
    "\n",
    "    outputs = layers.Dense(1, activation=\"sigmoid\")(x)\n",
    "    model = Model(inputs=inputs, outputs=outputs)\n",
    "    model.compile(optimizer=optimizer, loss=\"binary_crossentropy\", metrics=[\"accuracy\"])\n",
    "    return model"
   ]
  },
  {
   "cell_type": "code",
   "execution_count": 4,
   "metadata": {},
   "outputs": [],
   "source": [
    "if os.path.exists(\"logs\"):\n",
    "    shutil.rmtree(\"logs\")\n",
    "\n",
    "now = datetime.now().strftime(\"%Y%m%d-%H%M%S\")\n",
    "\n",
    "# we only have 6 possible combinations\n",
    "tuner = RandomSearch(\n",
    "    build_model,\n",
    "    max_trials=6,\n",
    "    objective=\"loss\",\n",
    "    directory=\"logs\",\n",
    "    project_name=f\"{now}/tuner\",\n",
    ")\n",
    "tuner.search(\n",
    "    X,\n",
    "    y,\n",
    "    epochs=100,\n",
    "    batch_size=4,\n",
    "    verbose=0,\n",
    "    callbacks=[\n",
    "        callbacks.TensorBoard(log_dir=f\"logs/{now}\"),\n",
    "        callbacks.LearningRateScheduler(lr_schedule),\n",
    "        callbacks.EarlyStopping(monitor=\"loss\", min_delta=0.001, patience=20),\n",
    "    ],\n",
    ")"
   ]
  }
 ],
 "metadata": {
  "kernelspec": {
   "display_name": ".venv",
   "language": "python",
   "name": "python3"
  },
  "language_info": {
   "codemirror_mode": {
    "name": "ipython",
    "version": 3
   },
   "file_extension": ".py",
   "mimetype": "text/x-python",
   "name": "python",
   "nbconvert_exporter": "python",
   "pygments_lexer": "ipython3",
   "version": "3.11.9"
  }
 },
 "nbformat": 4,
 "nbformat_minor": 2
}
