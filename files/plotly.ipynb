{
 "cells": [
  {
   "cell_type": "markdown",
   "metadata": {},
   "source": [
    "# Plotly\n",
    "\n",
    "[![Open in Colab](https://colab.research.google.com/assets/colab-badge.svg)](https://colab.research.google.com/github/adamelliotfields/lab/blob/main/files/plotly.ipynb)\n",
    "[![Render nbviewer](https://raw.githubusercontent.com/jupyter/design/main/logos/Badges/nbviewer_badge.svg)](https://nbviewer.org/github/adamelliotfields/lab/blob/main/files/plotly.ipynb)"
   ]
  },
  {
   "cell_type": "code",
   "execution_count": null,
   "metadata": {},
   "outputs": [],
   "source": [
    "%pip install -q plotly seaborn"
   ]
  },
  {
   "cell_type": "code",
   "execution_count": null,
   "metadata": {},
   "outputs": [],
   "source": [
    "import plotly\n",
    "import plotly.express as px\n",
    "import seaborn as sns\n",
    "\n",
    "diamonds = sns.load_dataset(\"diamonds\")\n",
    "dowjones = sns.load_dataset(\"dowjones\")\n",
    "titanic = sns.load_dataset(\"titanic\")\n",
    "\n",
    "gapminder = plotly.data.gapminder()\n",
    "iris = plotly.data.iris()"
   ]
  },
  {
   "cell_type": "code",
   "execution_count": null,
   "metadata": {},
   "outputs": [],
   "source": [
    "diamonds.head()"
   ]
  },
  {
   "cell_type": "code",
   "execution_count": null,
   "metadata": {},
   "outputs": [],
   "source": [
    "px.histogram(diamonds, x=\"price\", facet_col=\"cut\", color=\"cut\", template=\"ggplot2\")"
   ]
  },
  {
   "cell_type": "code",
   "execution_count": null,
   "metadata": {},
   "outputs": [],
   "source": [
    "titanic.sample(5, random_state=42)"
   ]
  },
  {
   "cell_type": "code",
   "execution_count": null,
   "metadata": {},
   "outputs": [],
   "source": [
    "pclass_survived = titanic.groupby([\"pclass\", \"survived\"]).size().reset_index(name=\"count\")\n",
    "pclass_survived[\"survived\"] = pclass_survived[\"survived\"].astype(bool)\n",
    "survivors = pclass_survived[pclass_survived[\"survived\"] == 1]\n",
    "deceased = pclass_survived[pclass_survived[\"survived\"] == 0]\n",
    "\n",
    "fig = px.bar(\n",
    "    pclass_survived,\n",
    "    x=\"pclass\",\n",
    "    y=\"count\",\n",
    "    color=\"survived\",\n",
    "    labels={\"count\": \"Passenger Count\"},\n",
    "    title=\"Survivors vs Deceased by Passenger Class\",\n",
    "    barmode=\"group\",\n",
    "    template=\"gridon\",\n",
    ")\n",
    "fig.update_layout(\n",
    "    xaxis_title=\"Passenger Class\",\n",
    "    yaxis_title=\"Passenger Count\",\n",
    ")\n",
    "fig.show()"
   ]
  },
  {
   "cell_type": "code",
   "execution_count": null,
   "metadata": {},
   "outputs": [],
   "source": [
    "dowjones.head()"
   ]
  },
  {
   "cell_type": "code",
   "execution_count": null,
   "metadata": {},
   "outputs": [],
   "source": [
    "fig = px.line(\n",
    "    dowjones,\n",
    "    x=\"Date\",\n",
    "    y=\"Price\",\n",
    "    title=\"Dow Jones Industrial Average\",\n",
    "    template=\"simple_white\",\n",
    ")\n",
    "fig.show()"
   ]
  },
  {
   "cell_type": "code",
   "execution_count": null,
   "metadata": {},
   "outputs": [],
   "source": [
    "iris.sample(5, random_state=42)"
   ]
  },
  {
   "cell_type": "code",
   "execution_count": null,
   "metadata": {},
   "outputs": [],
   "source": [
    "fig = px.scatter(\n",
    "    iris,\n",
    "    x=\"sepal_length\",\n",
    "    y=\"sepal_width\",\n",
    "    color=\"species\",\n",
    "    title=\"Sepal Width vs Sepal Length\",\n",
    "    hover_data=[\"species\"],\n",
    "    trendline=\"ols\",\n",
    "    template=\"seaborn\",\n",
    ")\n",
    "fig.update_layout(\n",
    "    xaxis_title=\"sepal length\",\n",
    "    yaxis_title=\"sepal width\",\n",
    ")\n",
    "fig.show()"
   ]
  },
  {
   "cell_type": "code",
   "execution_count": null,
   "metadata": {},
   "outputs": [],
   "source": [
    "gapminder.sample(5, random_state=42)"
   ]
  },
  {
   "cell_type": "code",
   "execution_count": null,
   "metadata": {},
   "outputs": [],
   "source": [
    "fig = px.scatter(\n",
    "    gapminder,\n",
    "    x=\"gdpPercap\",\n",
    "    y=\"lifeExp\",\n",
    "    animation_frame=\"year\",\n",
    "    animation_group=\"country\",\n",
    "    size=\"pop\",\n",
    "    color=\"continent\",\n",
    "    hover_name=\"country\",\n",
    "    log_x=True,\n",
    "    size_max=55,\n",
    "    range_x=[100, 100000],\n",
    "    range_y=[25, 90],\n",
    "    template=\"plotly_white\",\n",
    ")\n",
    "fig.update_layout(\n",
    "    title=\"Gapminder Global Development\",\n",
    "    xaxis=dict(title=\"GDP per Capita\"),\n",
    "    yaxis=dict(title=\"Life Expectancy\"),\n",
    ")\n",
    "fig.show()"
   ]
  }
 ],
 "metadata": {
  "kernelspec": {
   "display_name": "Python 3 (ipykernel)",
   "language": "python",
   "name": "python3"
  },
  "language_info": {
   "codemirror_mode": {
    "name": "ipython",
    "version": 3
   },
   "file_extension": ".py",
   "mimetype": "text/x-python",
   "name": "python",
   "nbconvert_exporter": "python",
   "pygments_lexer": "ipython3",
   "version": "3.10.14"
  }
 },
 "nbformat": 4,
 "nbformat_minor": 4
}
