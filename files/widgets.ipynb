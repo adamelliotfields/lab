{
 "cells": [
  {
   "cell_type": "markdown",
   "metadata": {},
   "source": [
    "# Widgets"
   ]
  },
  {
   "cell_type": "code",
   "execution_count": null,
   "metadata": {},
   "outputs": [],
   "source": [
    "import ipywidgets\n",
    "\n",
    "from IPython.display import HTML, display\n",
    "from collections import defaultdict\n",
    "from pprint import pprint"
   ]
  },
  {
   "cell_type": "markdown",
   "metadata": {},
   "source": [
    "## Input"
   ]
  },
  {
   "cell_type": "markdown",
   "metadata": {},
   "source": [
    "### Sliders"
   ]
  },
  {
   "cell_type": "code",
   "execution_count": null,
   "metadata": {},
   "outputs": [],
   "source": [
    "# sliders\n",
    "int_slider = ipywidgets.IntSlider(\n",
    "    value=5,\n",
    "    min=0,\n",
    "    max=10,\n",
    "    step=1,\n",
    "    description=\"Int Slider:\",\n",
    "    style={\"description_width\": \"4rem\", \"handle_color\": \"rebeccapurple\"},\n",
    "    continuous_update=False,  # update the value while it's being dragged (default: True)\n",
    "    readout=True,  # display output next to slider (default: True)\n",
    ")\n",
    "\n",
    "float_slider = ipywidgets.FloatSlider(\n",
    "    value=5.5,\n",
    "    min=0.0,\n",
    "    max=10.0,\n",
    "    step=0.1,\n",
    "    description=\"Float Slider:\",\n",
    "    orientation=\"vertical\",\n",
    ")\n",
    "\n",
    "int_range_slider = ipywidgets.IntRangeSlider(\n",
    "    value=[2, 8],\n",
    "    min=0,\n",
    "    max=10,\n",
    "    step=2,\n",
    "    description=\"Int Range Slider:\",\n",
    "    style={\"description_width\": \"104px\"},\n",
    ")\n",
    "\n",
    "ipywidgets.VBox([int_slider, float_slider, int_range_slider])"
   ]
  },
  {
   "cell_type": "markdown",
   "metadata": {},
   "source": [
    "### Text"
   ]
  },
  {
   "cell_type": "code",
   "execution_count": null,
   "metadata": {},
   "outputs": [],
   "source": [
    "text = ipywidgets.Text(\n",
    "    value=\"Hello, world!\",\n",
    "    placeholder=\"Type something...\",\n",
    "    description=\"Text:\",\n",
    ")\n",
    "int_text = ipywidgets.BoundedIntText(\n",
    "    value=5,\n",
    "    min=0,\n",
    "    max=10,\n",
    "    step=1,\n",
    "    description=\"Int Text:\",\n",
    ")\n",
    "float_text = ipywidgets.BoundedFloatText(\n",
    "    value=5.5,\n",
    "    min=0.0,\n",
    "    max=10.0,\n",
    "    step=0.1,\n",
    "    description=\"Float Text:\",\n",
    ")\n",
    "password_text = ipywidgets.Password(\n",
    "    value=\"\",\n",
    "    placeholder=\"Enter your password...\",\n",
    "    description=\"Password:\",\n",
    ")\n",
    "text_area = ipywidgets.Textarea(\n",
    "    value=\"Hello, world!\",\n",
    "    placeholder=\"Type something...\",\n",
    "    description=\"Text Area:\",\n",
    ")\n",
    "\n",
    "ipywidgets.VBox(\n",
    "    [\n",
    "        text,\n",
    "        int_text,\n",
    "        float_text,\n",
    "        password_text,\n",
    "        text_area,\n",
    "    ]\n",
    ")"
   ]
  },
  {
   "cell_type": "markdown",
   "metadata": {},
   "source": [
    "### Combobox"
   ]
  },
  {
   "cell_type": "code",
   "execution_count": null,
   "metadata": {},
   "outputs": [],
   "source": [
    "combobox = ipywidgets.Combobox(\n",
    "    placeholder=\"Select...\",\n",
    "    options=[\"Option 1\", \"Option 2\", \"Option 3\"],\n",
    "    description=\"Combobox:\",\n",
    ")\n",
    "combobox"
   ]
  },
  {
   "cell_type": "markdown",
   "metadata": {},
   "source": [
    "### Checkbox"
   ]
  },
  {
   "cell_type": "code",
   "execution_count": null,
   "metadata": {},
   "outputs": [],
   "source": [
    "checkbox = ipywidgets.Checkbox(\n",
    "    value=False,\n",
    "    description=\"\",\n",
    "    indent=False,\n",
    ")\n",
    "checkbox_out = ipywidgets.Output(\n",
    "    layout={\"border\": \"1px solid black\", \"padding\": \"4px\", \"width\": \"44px\"},\n",
    ")\n",
    "\n",
    "\n",
    "def on_checkbox_change(change):\n",
    "    with checkbox_out:\n",
    "        checkbox_out.clear_output(wait=True)\n",
    "        checkbox_out.layout.border = \"1px solid red\" if not change[\"new\"] else \"1px solid green\"\n",
    "        print(change[\"new\"])\n",
    "\n",
    "\n",
    "checkbox.observe(on_checkbox_change, names=\"value\")\n",
    "on_checkbox_change({\"new\": checkbox.value})\n",
    "\n",
    "ipywidgets.VBox([checkbox, checkbox_out])"
   ]
  },
  {
   "cell_type": "markdown",
   "metadata": {},
   "source": [
    "### Buttons"
   ]
  },
  {
   "cell_type": "code",
   "execution_count": null,
   "metadata": {},
   "outputs": [],
   "source": [
    "btn = ipywidgets.Button(\n",
    "    description=\" Click me!\",\n",
    "    tooltip=\"Do not click me\",\n",
    "    icon=\"check\",  # FontAwesome icon name without \"fa-\" prefix (doesn't work in Colab?)\n",
    ")\n",
    "btn_success = ipywidgets.Button(description=\"Click me!\", button_style=\"success\")\n",
    "btn_info = ipywidgets.Button(description=\"Click me!\", button_style=\"info\")\n",
    "btn_warning = ipywidgets.Button(description=\"Click me!\", button_style=\"warning\")\n",
    "btn_danger = ipywidgets.Button(description=\"Click me!\", button_style=\"danger\")\n",
    "\n",
    "ipywidgets.VBox(\n",
    "    [\n",
    "        btn,\n",
    "        btn_info,\n",
    "        btn_success,\n",
    "        btn_warning,\n",
    "        btn_danger,\n",
    "    ]\n",
    ")"
   ]
  },
  {
   "cell_type": "markdown",
   "metadata": {},
   "source": [
    "### Radio buttons"
   ]
  },
  {
   "cell_type": "code",
   "execution_count": null,
   "metadata": {},
   "outputs": [],
   "source": [
    "radio_buttons = ipywidgets.RadioButtons(\n",
    "    options=[\"Option 1\", \"Option 2\", \"Option 3\"],\n",
    "    description=\"Radios:\",\n",
    ")\n",
    "radio_buttons"
   ]
  },
  {
   "cell_type": "markdown",
   "metadata": {},
   "source": [
    "### Toggle buttons"
   ]
  },
  {
   "cell_type": "code",
   "execution_count": null,
   "metadata": {},
   "outputs": [],
   "source": [
    "toggle_buttons = ipywidgets.ToggleButtons(\n",
    "    options=[\"Slow\", \"Regular\", \"Fast\"],\n",
    "    tooltips=[\"Slow speed\", \"Regular speed\", \"Fast speed\"],\n",
    "    description=\"Toggle Speed:\",\n",
    "    style={\"description_width\": \"84px\"},\n",
    ")\n",
    "toggle_buttons"
   ]
  },
  {
   "cell_type": "markdown",
   "metadata": {},
   "source": [
    "### Dropdowns"
   ]
  },
  {
   "cell_type": "code",
   "execution_count": null,
   "metadata": {},
   "outputs": [],
   "source": [
    "dropdown = ipywidgets.Dropdown(\n",
    "    options=[\"Option 1\", \"Option 2\", \"Option 3\"],\n",
    "    description=\"Dropdown:\",\n",
    ")\n",
    "dropdown"
   ]
  },
  {
   "cell_type": "markdown",
   "metadata": {},
   "source": [
    "### Multiselect"
   ]
  },
  {
   "cell_type": "code",
   "execution_count": null,
   "metadata": {},
   "outputs": [],
   "source": [
    "multiselect = ipywidgets.SelectMultiple(\n",
    "    options=[\"Option 1\", \"Option 2\", \"Option 3\"],\n",
    "    description=\"Multiselect:\",\n",
    ")\n",
    "multiselect"
   ]
  },
  {
   "cell_type": "markdown",
   "metadata": {},
   "source": [
    "### Date picker"
   ]
  },
  {
   "cell_type": "code",
   "execution_count": null,
   "metadata": {},
   "outputs": [],
   "source": [
    "date_picker = ipywidgets.DatePicker(description=\"Date:\")\n",
    "date_picker"
   ]
  },
  {
   "cell_type": "markdown",
   "metadata": {},
   "source": [
    "### Color picker"
   ]
  },
  {
   "cell_type": "code",
   "execution_count": null,
   "metadata": {},
   "outputs": [],
   "source": [
    "color_picker = ipywidgets.ColorPicker(\n",
    "    value=\"dodgerblue\",\n",
    "    concise=False,  # disable the text input next to the color picker\n",
    ")\n",
    "color_picker"
   ]
  },
  {
   "cell_type": "markdown",
   "metadata": {},
   "source": [
    "### File upload"
   ]
  },
  {
   "cell_type": "code",
   "execution_count": null,
   "metadata": {},
   "outputs": [],
   "source": [
    "# https://github.com/microsoft/vscode-jupyter/issues/13469\n",
    "uploader = ipywidgets.FileUpload(\n",
    "    accept=\"\",\n",
    "    multiple=False,\n",
    ")\n",
    "\n",
    "\n",
    "def on_upload(_):\n",
    "    for name, file_info in uploader.value.items():\n",
    "        print(name)\n",
    "        print(file_info)\n",
    "\n",
    "\n",
    "# {\n",
    "#   'metadata': {\n",
    "#     'name': 'hello.txt',\n",
    "#     'type': 'text/plain',\n",
    "#     'size': 42,\n",
    "#     'lastModified': 1700244646841\n",
    "#   },\n",
    "#   'content': b'hello, world!\\n'\n",
    "# }\n",
    "uploader.observe(on_upload, names=\"value\")\n",
    "uploader"
   ]
  },
  {
   "cell_type": "markdown",
   "metadata": {},
   "source": [
    "## Layout"
   ]
  },
  {
   "cell_type": "markdown",
   "metadata": {},
   "source": [
    "### Tabs"
   ]
  },
  {
   "cell_type": "code",
   "execution_count": null,
   "metadata": {},
   "outputs": [],
   "source": [
    "tab = ipywidgets.Tab(children=[ipywidgets.Label(value=\"Tab 1\"), ipywidgets.Label(value=\"Tab 2\")])\n",
    "tab.set_title(0, \"Tab 1\")\n",
    "tab.set_title(1, \"Tab 2\")\n",
    "tab"
   ]
  },
  {
   "cell_type": "markdown",
   "metadata": {},
   "source": [
    "## Accordion"
   ]
  },
  {
   "cell_type": "code",
   "execution_count": null,
   "metadata": {},
   "outputs": [],
   "source": [
    "accordion = ipywidgets.Accordion(\n",
    "    children=[ipywidgets.Label(value=\"Tab 1\"), ipywidgets.Label(value=\"Tab 2\")]\n",
    ")\n",
    "accordion.set_title(0, \"Tab 1\")\n",
    "accordion.set_title(1, \"Tab 2\")\n",
    "accordion"
   ]
  },
  {
   "cell_type": "markdown",
   "metadata": {},
   "source": [
    "## Output"
   ]
  },
  {
   "cell_type": "code",
   "execution_count": null,
   "metadata": {},
   "outputs": [],
   "source": [
    "# first display the cell\n",
    "out = ipywidgets.Output(layout={\"border\": \"1px solid black\", \"padding\": \"4px\"})\n",
    "out"
   ]
  },
  {
   "cell_type": "code",
   "execution_count": null,
   "metadata": {},
   "outputs": [],
   "source": [
    "# then write to it\n",
    "with out:\n",
    "    print(\"hello, world!\")"
   ]
  },
  {
   "cell_type": "markdown",
   "metadata": {},
   "source": [
    "### HTML"
   ]
  },
  {
   "cell_type": "code",
   "execution_count": null,
   "metadata": {},
   "outputs": [],
   "source": [
    "# html\n",
    "html_plain = ipywidgets.HTML(\"Hello, <b>world!</b>\")\n",
    "html_plain"
   ]
  },
  {
   "cell_type": "markdown",
   "metadata": {},
   "source": [
    "## Style"
   ]
  },
  {
   "cell_type": "markdown",
   "metadata": {},
   "source": [
    "### Animation"
   ]
  },
  {
   "cell_type": "code",
   "execution_count": null,
   "metadata": {},
   "outputs": [],
   "source": [
    "play = ipywidgets.Play(\n",
    "    interval=100,\n",
    "    value=0,\n",
    "    min=0,\n",
    "    max=100,\n",
    "    step=1,\n",
    ")\n",
    "\n",
    "# animated horizontal progress with playback controls\n",
    "int_progress = ipywidgets.IntProgress(min=0, max=100, value=0, bar_style=\"success\")\n",
    "\n",
    "# jslink links the values on the frontend only (faster than updating the backend)\n",
    "ipywidgets.jslink((play, \"value\"), (int_progress, \"value\"))\n",
    "ipywidgets.HBox([play, int_progress])"
   ]
  }
 ],
 "metadata": {
  "kernelspec": {
   "display_name": "Python 3 (ipykernel)",
   "language": "python",
   "name": "python3"
  },
  "language_info": {
   "codemirror_mode": {
    "name": "ipython",
    "version": 3
   },
   "file_extension": ".py",
   "mimetype": "text/x-python",
   "name": "python",
   "nbconvert_exporter": "python",
   "pygments_lexer": "ipython3",
   "version": "3.10.14"
  }
 },
 "nbformat": 4,
 "nbformat_minor": 4
}
