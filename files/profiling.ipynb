{
 "cells": [
  {
   "cell_type": "markdown",
   "metadata": {},
   "source": [
    "# Pandas Profiling with Ydata-profiling\n",
    "\n",
    "[![Open in Colab](https://lab.aef.me/files/assets/colab-badge.svg)](https://colab.research.google.com/github/adamelliotfields/lab/blob/main/files/profiling.ipynb)\n",
    "[![Open in Kaggle](https://lab.aef.me/files/assets/open-in-kaggle.svg)](https://kaggle.com/kernels/welcome?src=https://github.com/adamelliotfields/lab/blob/main/files/profiling.ipynb)\n",
    "[![Render nbviewer](https://lab.aef.me/files/assets/nbviewer_badge.svg)](https://nbviewer.org/github/adamelliotfields/lab/blob/main/files/profiling.ipynb)\n",
    "\n",
    "Demonstration of [Ydata-profiling](https://github.com/ydataai/ydata-profiling) on the diabetes dataset from [LARS](https://hastie.su.domains/Papers/LARS/)."
   ]
  },
  {
   "cell_type": "code",
   "execution_count": 1,
   "metadata": {},
   "outputs": [],
   "source": [
    "import os\n",
    "\n",
    "import pandas as pd\n",
    "\n",
    "from IPython.display import HTML\n",
    "from ydata_profiling import ProfileReport"
   ]
  },
  {
   "cell_type": "code",
   "execution_count": 2,
   "metadata": {},
   "outputs": [],
   "source": [
    "os.environ[\"YDATA_PROFILING_NO_ANALYTICS\"] = \"True\""
   ]
  },
  {
   "cell_type": "code",
   "execution_count": 3,
   "metadata": {},
   "outputs": [],
   "source": [
    "diabetes_df = pd.read_csv(\"https://lab.aef.me/files/data/diabetes.csv\")\n",
    "\n",
    "# rename columns\n",
    "diabetes_df.columns = [\n",
    "    \"age\",\n",
    "    \"sex\",\n",
    "    \"bmi\",\n",
    "    \"bp\",\n",
    "    \"tc\",\n",
    "    \"ldl\",\n",
    "    \"hdl\",\n",
    "    \"tch\",\n",
    "    \"ltg\",\n",
    "    \"glu\",\n",
    "    \"target\",\n",
    "]"
   ]
  },
  {
   "cell_type": "code",
   "execution_count": 4,
   "metadata": {},
   "outputs": [],
   "source": [
    "if not os.path.exists(\"ydata_profiling/index.html\"):\n",
    "    profile = ProfileReport(\n",
    "        diabetes_df,\n",
    "        explorative=True,\n",
    "        progress_bar=False,\n",
    "        title=\"Diabetes Profiling Report\",\n",
    "        dataset={\n",
    "            \"description\": \"Ten baseline variables, age, sex, body mass index, average blood pressure, and six blood serum measurements were obtained for each of n = 442 diabetes patients, as well as the response of interest, a quantitative measure of disease progression one year after baseline. Note: Each of these 10 feature variables have been mean centered and scaled by the standard deviation times the square root of `n_samples` (i.e. the sum of squares of each column totals 1).\",\n",
    "            \"url\": \"https://www4.stat.ncsu.edu/~boos/var.select/diabetes.html\",\n",
    "        },\n",
    "        variables={\n",
    "            \"descriptions\": {\n",
    "                \"age\": \"Age in years\",\n",
    "                \"sex\": \"Sex\",\n",
    "                \"bmi\": \"Body mass index\",\n",
    "                \"bp\": \"Average blood pressure\",\n",
    "                \"tc\": \"Total serum cholesterol\",\n",
    "                \"ldl\": \"Low-density lipoproteins\",\n",
    "                \"hdl\": \"High-density lipoproteins\",\n",
    "                \"tch\": \"Total cholesterol / HDL ratio\",\n",
    "                \"ltg\": \"Log of serum triglycerides level\",\n",
    "                \"glu\": \"Blood sugar level\",\n",
    "                \"target\": \"Measure of disease progression one year after baseline\",\n",
    "            }\n",
    "        },\n",
    "        type_schema={\"sex\": \"categorical\"},\n",
    "        correlations={\"pearson\": {\"calculate\": True}},\n",
    "        html={\n",
    "            \"minify_html\": False,\n",
    "            \"style\": {\"theme\": \"united\", \"full_width\": True},\n",
    "        },\n",
    "    )\n",
    "    os.makedirs(\"profile_reports\", exist_ok=True)\n",
    "    profile.to_file(\"ydata_profiling/index.html\")"
   ]
  },
  {
   "cell_type": "code",
   "execution_count": 5,
   "metadata": {},
   "outputs": [],
   "source": [
    "# display as widgets\n",
    "# profile.to_widgets()\n",
    "\n",
    "# render app in notebook\n",
    "# HTML(filename=\"ydata_profiling/index.html\")\n",
    "\n",
    "# launch server from terminal\n",
    "# python -m http.server 8000 -d files/ydata_profiling"
   ]
  }
 ],
 "metadata": {
  "kernelspec": {
   "display_name": ".venv",
   "language": "python",
   "name": "python3"
  },
  "language_info": {
   "codemirror_mode": {
    "name": "ipython",
    "version": 3
   },
   "file_extension": ".py",
   "mimetype": "text/x-python",
   "name": "python",
   "nbconvert_exporter": "python",
   "pygments_lexer": "ipython3",
   "version": "3.11.9"
  }
 },
 "nbformat": 4,
 "nbformat_minor": 2
}
